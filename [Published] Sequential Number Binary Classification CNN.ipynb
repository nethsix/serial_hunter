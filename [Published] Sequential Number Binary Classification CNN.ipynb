{
 "cells": [
  {
   "cell_type": "code",
   "execution_count": 1,
   "metadata": {
    "collapsed": false
   },
   "outputs": [
    {
     "name": "stderr",
     "output_type": "stream",
     "text": [
      "Using TensorFlow backend.\n"
     ]
    }
   ],
   "source": [
    "import tensorflow as tf\n",
    "import keras as kr\n",
    "import pandas as pd\n",
    "import numpy as np\n",
    "import matplotlib.pyplot as plt\n",
    "import random\n",
    "import math\n",
    "from functools import reduce\n",
    "\n",
    "from keras.models import Sequential\n",
    "from keras.layers import Dense, Activation, Flatten, Conv2D, Input, MaxPooling2D, AveragePooling2D\n",
    "\n",
    "%matplotlib inline"
   ]
  },
  {
   "cell_type": "code",
   "execution_count": 2,
   "metadata": {
    "collapsed": true
   },
   "outputs": [],
   "source": [
    "NUMBER_SIZE = 15\n",
    "THRESHOLD_COUNT = 5\n",
    "\n",
    "BATCH_NUMBER_COUNT_50 = 50\n",
    "SINGLE_SAMPLE_SIZE_50 = BATCH_NUMBER_COUNT_50 * NUMBER_SIZE\n",
    "\n",
    "CLASSES = { \"none\": 0, \"attack\": 1 }"
   ]
  },
  {
   "cell_type": "code",
   "execution_count": 3,
   "metadata": {
    "collapsed": true
   },
   "outputs": [],
   "source": [
    "def create_single_sample_from_array(numbers):\n",
    "  # Treat the list of phone numbers as a single huge list digits\n",
    "  # pretty much like greyscale images, etc.\n",
    "  digit_str = ''.join([str(i) for i in numbers])\n",
    "  # Now create an image-like array\n",
    "  return list(digit_str)\n",
    "\n",
    "def create_single_sample_from_dataframe(dataframe_row):\n",
    "  return create_single_sample_from_array(np.array(dataframe_row))\n",
    "\n",
    "def combine_dfs(dfs, outcome_values=None, shuffle=True):\n",
    "  # Combine data with sequence with outcome\n",
    "  df_list = []\n",
    "  for idx, df in enumerate(dfs):\n",
    "    data_arr = []\n",
    "    for index, series in df.iterrows():\n",
    "      series_value = [v for _, v in series.iteritems()]\n",
    "      combined_series = create_single_sample_from_array(series_value)\n",
    "      data_arr.append(combined_series)\n",
    "    \n",
    "    df_arr_row_count = len(data_arr)\n",
    "    \n",
    "    outcome_value = outcome_values[idx] if outcome_values else idx\n",
    "    data_outcome_tuples = zip(data_arr, [outcome_value] * df_arr_row_count)\n",
    "\n",
    "    # DEBUG\n",
    "    print(\"outcome_value:%s of all possible outcome_values:%s\" % (outcome_value, outcome_values))\n",
    "\n",
    "    df_list += data_outcome_tuples   \n",
    "    \n",
    "  # Merge data with sequence and no sequence\n",
    "  dataframe = pd.DataFrame(df_list, columns=[\"sample\",\"outcome\"])\n",
    "  # Shuffle (or rather randomly select samples) but 1.0 means all\n",
    "  df_random = dataframe.sample(frac=1) if shuffle else dataframe\n",
    "  return df_random\n",
    "\n",
    "def extract_sample_and_outcome(df, sample_col_name='sample', outcome_col_name='outcome'):\n",
    "  X = [i for i in df[sample_col_name]]\n",
    "  Y = [i for i in df[outcome_col_name]]\n",
    "  return (X, Y)\n",
    "\n",
    "def load_data(filename, expected_shape_tuple):\n",
    "  data = pd.read_csv(filename, header=None)\n",
    "  print(\"data file:%s, data.shape (should be %s): %s\" % (filename, expected_shape_tuple, data.shape))\n",
    "  if data.shape != expected_shape_tuple:\n",
    "    raise ValueError(\"data.shape:%s does not match excpected shape:%s\" % (data.shape, expected_shape_tuple))\n",
    "  return data\n",
    "    \n",
    "def prepare_data(filenames, expected_shape_tuples, outcome_values=None, shuffle=True):\n",
    "  dfs = []\n",
    "  for idx, filename in enumerate(filenames):\n",
    "    dfs.append(load_data(filename, expected_shape_tuples[idx]))\n",
    "\n",
    "  df_all = combine_dfs(dfs, outcome_values, shuffle)\n",
    "  if (df_all.shape[0] != reduce((lambda m, i: m + i.shape[0]), dfs,0)):\n",
    "    raise ValueError(\"There is a problem with combine_dfs. df_all.shape:%s does not match the sum of df_seq:%s and df_no_seq:%s\" % (df_all.shape, df_seq.shape, df_no_seq.shape))\n",
    "  return df_all\n",
    "\n",
    "def prepare_train_data(dataframe, single_sample_size):\n",
    "  df_row_count = dataframe.shape[0]\n",
    "  (X, Y) = extract_sample_and_outcome(dataframe)\n",
    "  X_train = np.array(X).reshape(df_row_count, 1, single_sample_size, 1)\n",
    "  Y_train = np.array(Y).reshape(df_row_count)\n",
    "\n",
    "  print(\"type(X):%s, len(X):%d, len(X[0]):%d\" % (type(X), len(X), len(X[0])))\n",
    "  print(\"df_row_count: %d\" % df_row_count)\n",
    "  print(\"single_sample_size_bit:%d\" % single_sample_size)\n",
    "  print(\"X_train.shape:%s, Y_train.shape:%s\" % (X_train.shape, Y_train.shape))\n",
    "  print(\"\\n\")\n",
    "\n",
    "  print(\"type(Y[0]):%s, Y[0]:%s\" % (type(Y[0]), Y[0]))\n",
    "\n",
    "  return (X_train, Y_train)"
   ]
  },
  {
   "cell_type": "code",
   "execution_count": 5,
   "metadata": {
    "collapsed": false
   },
   "outputs": [
    {
     "name": "stdout",
     "output_type": "stream",
     "text": [
      "data file:data_no_sequence_2040_sample_number_50.csv, data.shape (should be (2040, 50)): (2040, 50)\n",
      "data file:data_sequence_sparse_head_heavy_tail_heavy_ooo_mid_combo_2040_sample_number_50.csv, data.shape (should be (2040, 50)): (2040, 50)\n",
      "outcome_value:0 of all possible outcome_values:[0, 1]\n",
      "outcome_value:1 of all possible outcome_values:[0, 1]\n",
      "data file:data_no_sequence_10200_sample_number_50.csv, data.shape (should be (10200, 50)): (10200, 50)\n",
      "data file:data_sequence_sparse_head_heavy_tail_heavy_ooo_mid_combo_10200_sample_number_50.csv, data.shape (should be (10200, 50)): (10200, 50)\n",
      "outcome_value:0 of all possible outcome_values:[0, 1]\n",
      "outcome_value:1 of all possible outcome_values:[0, 1]\n"
     ]
    }
   ],
   "source": [
    "# Load data from files into dataframe\n",
    "\n",
    "df_random_2040_2040_combo_sample_number_50 = prepare_data(['data_no_sequence_2040_sample_number_50.csv','data_sequence_sparse_head_heavy_tail_heavy_ooo_mid_combo_2040_sample_number_50.csv'], [(2040,50), (2040,50)], [CLASSES[\"none\"],CLASSES[\"attack\"]]) \n",
    "\n",
    "df_random_10200_10200_combo_sample_number_50 = prepare_data(['data_no_sequence_10200_sample_number_50.csv','data_sequence_sparse_head_heavy_tail_heavy_ooo_mid_combo_10200_sample_number_50.csv'], [(10200,50), (10200,50)], [CLASSES[\"none\"],CLASSES[\"attack\"]]) "
   ]
  },
  {
   "cell_type": "code",
   "execution_count": 6,
   "metadata": {
    "collapsed": false
   },
   "outputs": [
    {
     "data": {
      "text/html": [
       "<div>\n",
       "<table border=\"1\" class=\"dataframe\">\n",
       "  <thead>\n",
       "    <tr style=\"text-align: right;\">\n",
       "      <th></th>\n",
       "      <th>sample</th>\n",
       "      <th>outcome</th>\n",
       "    </tr>\n",
       "  </thead>\n",
       "  <tbody>\n",
       "    <tr>\n",
       "      <th>419</th>\n",
       "      <td>[3, 3, 0, 7, 8, 2, 6, 0, 3, 2, 8, 2, 3, 3, 1, ...</td>\n",
       "      <td>0</td>\n",
       "    </tr>\n",
       "    <tr>\n",
       "      <th>3844</th>\n",
       "      <td>[5, 8, 1, 1, 7, 4, 7, 4, 2, 2, 6, 9, 9, 9, 6, ...</td>\n",
       "      <td>1</td>\n",
       "    </tr>\n",
       "    <tr>\n",
       "      <th>2814</th>\n",
       "      <td>[6, 0, 7, 0, 5, 0, 8, 7, 4, 0, 2, 4, 0, 6, 9, ...</td>\n",
       "      <td>1</td>\n",
       "    </tr>\n",
       "    <tr>\n",
       "      <th>3523</th>\n",
       "      <td>[8, 8, 9, 0, 5, 7, 5, 2, 7, 1, 9, 2, 1, 2, 0, ...</td>\n",
       "      <td>1</td>\n",
       "    </tr>\n",
       "    <tr>\n",
       "      <th>497</th>\n",
       "      <td>[9, 7, 0, 1, 3, 0, 2, 2, 3, 1, 8, 5, 4, 9, 2, ...</td>\n",
       "      <td>0</td>\n",
       "    </tr>\n",
       "  </tbody>\n",
       "</table>\n",
       "</div>"
      ],
      "text/plain": [
       "                                                 sample  outcome\n",
       "419   [3, 3, 0, 7, 8, 2, 6, 0, 3, 2, 8, 2, 3, 3, 1, ...        0\n",
       "3844  [5, 8, 1, 1, 7, 4, 7, 4, 2, 2, 6, 9, 9, 9, 6, ...        1\n",
       "2814  [6, 0, 7, 0, 5, 0, 8, 7, 4, 0, 2, 4, 0, 6, 9, ...        1\n",
       "3523  [8, 8, 9, 0, 5, 7, 5, 2, 7, 1, 9, 2, 1, 2, 0, ...        1\n",
       "497   [9, 7, 0, 1, 3, 0, 2, 2, 3, 1, 8, 5, 4, 9, 2, ...        0"
      ]
     },
     "execution_count": 6,
     "metadata": {},
     "output_type": "execute_result"
    }
   ],
   "source": [
    "# SANITY CHECK #1\n",
    "\n",
    "# There should be 'sample' and 'outcome' columns\n",
    "# 'sample' contains all phone numbers in period broken down into individual digits\n",
    "# and combined\n",
    "# 'outcome' is 0 or 1 for binary\n",
    "# Also there should be mixed 0 and 1 since the samples have been randomize\n",
    "df_random_2040_2040_combo_sample_number_50.tail()"
   ]
  },
  {
   "cell_type": "code",
   "execution_count": 7,
   "metadata": {
    "collapsed": false
   },
   "outputs": [
    {
     "data": {
      "text/plain": [
       "2040"
      ]
     },
     "execution_count": 7,
     "metadata": {},
     "output_type": "execute_result"
    }
   ],
   "source": [
    "# SANITY CHECK #2\n",
    "\n",
    "# 50% or 2040 samples should be 1\n",
    "np.count_nonzero(df_random_2040_2040_combo_sample_number_50['outcome'])"
   ]
  },
  {
   "cell_type": "code",
   "execution_count": 8,
   "metadata": {
    "collapsed": false
   },
   "outputs": [
    {
     "data": {
      "text/plain": [
       "750"
      ]
     },
     "execution_count": 8,
     "metadata": {},
     "output_type": "execute_result"
    }
   ],
   "source": [
    "# SANITY CHECK #3\n",
    "\n",
    "# The 'sample' length should be same as SINGLE_SAMPLE_SIZE_50 = BATCH_NUMBER_COUNT_50 * NUMBER_SIZE\n",
    "len(df_random_2040_2040_combo_sample_number_50['sample'][1])"
   ]
  },
  {
   "cell_type": "code",
   "execution_count": 9,
   "metadata": {
    "collapsed": false
   },
   "outputs": [
    {
     "name": "stdout",
     "output_type": "stream",
     "text": [
      "type(X):<class 'list'>, len(X):4080, len(X[0]):750\n",
      "df_row_count: 4080\n",
      "single_sample_size_bit:750\n",
      "X_train.shape:(4080, 1, 750, 1), Y_train.shape:(4080,)\n",
      "\n",
      "\n",
      "type(Y[0]):<class 'numpy.int64'>, Y[0]:1\n",
      "type(X):<class 'list'>, len(X):20400, len(X[0]):750\n",
      "df_row_count: 20400\n",
      "single_sample_size_bit:750\n",
      "X_train.shape:(20400, 1, 750, 1), Y_train.shape:(20400,)\n",
      "\n",
      "\n",
      "type(Y[0]):<class 'numpy.int64'>, Y[0]:1\n"
     ]
    }
   ],
   "source": [
    "# Split out dataframe containing both samples and outcome\n",
    "\n",
    "(X_2040_2040_combo_sample_number_50_train, Y_2040_2040_combo_sample_number_50_train) = prepare_train_data(df_random_2040_2040_combo_sample_number_50, SINGLE_SAMPLE_SIZE_50)\n",
    "\n",
    "(X_10200_10200_combo_sample_number_50_train, Y_10200_10200_combo_sample_number_50_train) = prepare_train_data(df_random_10200_10200_combo_sample_number_50, SINGLE_SAMPLE_SIZE_50)"
   ]
  },
  {
   "cell_type": "code",
   "execution_count": 10,
   "metadata": {
    "collapsed": false
   },
   "outputs": [
    {
     "data": {
      "text/plain": [
       "(4080, 1, 750, 1)"
      ]
     },
     "execution_count": 10,
     "metadata": {},
     "output_type": "execute_result"
    }
   ],
   "source": [
    "# For CNN, the dimensions are number of samples, height, width, channel/feature maps\n",
    "# Number of samples: sum of 'attack' and 'no attack' samples\n",
    "# Height: 1\n",
    "# Width: SINGLE_SAMPLE_SIZE_50\n",
    "# Feature maps/Channels: 1\n",
    "X_2040_2040_combo_sample_number_50_train.shape"
   ]
  },
  {
   "cell_type": "code",
   "execution_count": 11,
   "metadata": {
    "collapsed": false
   },
   "outputs": [
    {
     "data": {
      "text/plain": [
       "(4080,)"
      ]
     },
     "execution_count": 11,
     "metadata": {},
     "output_type": "execute_result"
    }
   ],
   "source": [
    "Y_2040_2040_combo_sample_number_50_train.shape"
   ]
  },
  {
   "cell_type": "code",
   "execution_count": 12,
   "metadata": {
    "collapsed": false
   },
   "outputs": [],
   "source": [
    "# Various multi-class CNN models tested\n",
    "\n",
    "def create_cnn_model_G_50():\n",
    "  # Create model\n",
    "  model = Sequential()\n",
    "  # Max number of digits are different in number yet still can be within threshold\n",
    "  digit_diff_size = 2\n",
    "  digit_same_size = NUMBER_SIZE - digit_diff_size\n",
    "  # If the seq is in the middle then parts that are same is split in two\n",
    "  smallest_digit_same_size = math.floor(digit_same_size/2)\n",
    "  # add model layers\n",
    "  number_digit_diff_size = math.floor(NUMBER_SIZE/digit_diff_size)\n",
    "  model.add(Conv2D(250, kernel_size=(1,smallest_digit_same_size), strides=(1,1), activation='relu', input_shape=(1,SINGLE_SAMPLE_SIZE_50,1)))\n",
    "  model.add(Conv2D(50, kernel_size=(1,NUMBER_SIZE), strides=(1,NUMBER_SIZE), activation='relu'))\n",
    "  model.add(Flatten())\n",
    "  model.add(Dense(BATCH_NUMBER_COUNT_50, activation=\"relu\"))\n",
    "  model.add(Dense(1, kernel_initializer='normal', activation='sigmoid'))\n",
    "  # Compile model\n",
    "  model.compile(loss='binary_crossentropy', optimizer='adam', metrics=['accuracy'])\n",
    "  return model\n",
    "\n",
    "def create_cnn_model_G_50_coarse():\n",
    "  # Create model\n",
    "  model = Sequential()\n",
    "  model.add(Conv2D(5, kernel_size=(1,NUMBER_SIZE), strides=(1,NUMBER_SIZE), activation='relu', input_shape=(1,SINGLE_SAMPLE_SIZE_50,1)))\n",
    "  model.add(Conv2D(2, kernel_size=(1,1), strides=(1,1), activation='relu'))\n",
    "  model.add(Flatten())\n",
    "  model.add(Dense(BATCH_NUMBER_COUNT_50, activation=\"relu\"))\n",
    "  model.add(Dense(1, kernel_initializer='normal', activation='sigmoid'))\n",
    "  # Compile model\n",
    "  model.compile(loss='binary_crossentropy', optimizer='adam', metrics=['accuracy'])\n",
    "  return model\n",
    "\n",
    "def create_cnn_model_G_50_mod():\n",
    "  # Create model\n",
    "  model = Sequential()\n",
    "  # Max number of bits are different in number yet still can be within threshold\n",
    "  bit_diff_size = BIT_PER_DIGIT*2\n",
    "  bit_same_size = NUMBER_SIZE_BIT - bit_diff_size\n",
    "  # If the seq is in the middle then parts that are same is split in two\n",
    "  smallest_bit_same_size = int(math.floor(bit_same_size/2) / BIT_PER_DIGIT)\n",
    "  # add model layers\n",
    "  number_bit_diff_size = math.floor(NUMBER_SIZE_BIT/bit_diff_size)\n",
    "  model.add(Conv2D(150, kernel_size=(1,smallest_bit_same_size), strides=(1,BIT_PER_DIGIT), activation='relu', input_shape=(1,SINGLE_SAMPLE_SIZE_BIT_50,1)))\n",
    "  model.add(Conv2D(5, kernel_size=(1,NUMBER_SIZE_BIT ), strides=(1,NUMBER_SIZE_BIT), activation='relu'))\n",
    "  model.add(Flatten())\n",
    "  model.add(Dense(10 - THRESHOLD_COUNT, activation=\"relu\"))\n",
    "  model.add(Dense(1, kernel_initializer='normal', activation='sigmoid'))\n",
    "  # Compile model\n",
    "  model.compile(loss='binary_crossentropy', optimizer='adam', metrics=['accuracy'])\n",
    "  return model\n",
    "\n",
    "def create_cnn_model_G_50_maxpool():\n",
    "  # Create model\n",
    "  model = Sequential()\n",
    "  # Max number of bits are different in number yet still can be within threshold\n",
    "  # bit_diff_size = BIT_PER_DIGIT*2\n",
    "  bit_same_size = NUMBER_SIZE_BIT - bit_diff_size\n",
    "  # If the seq is in the middle then parts that are same is split in two\n",
    "  smallest_bit_same_size = math.floor(bit_same_size/2)\n",
    "  # add model layers\n",
    "  number_bit_diff_size = math.floor(NUMBER_SIZE_BIT/bit_diff_size)\n",
    "  model.add(Conv2D(150, kernel_size=(1,smallest_bit_same_size), strides=(1,BIT_PER_DIGIT), activation='relu', input_shape=(1,SINGLE_SAMPLE_SIZE_BIT_50,1)))\n",
    "  model.add(MaxPooling2D(pool_size=(1,smallest_bit_same_size), strides=(1,math.floor(smallest_bit_same_size/BIT_PER_DIGIT))))\n",
    "  model.add(Conv2D(5, kernel_size=(1,1), strides=(1,1), activation='relu'))\n",
    "  model.add(Flatten())\n",
    "  model.add(Dense(10 - THRESHOLD_COUNT, activation=\"relu\"))\n",
    "  model.add(Dense(1, kernel_initializer='normal', activation='sigmoid'))\n",
    "  # Compile model\n",
    "  model.compile(loss='binary_crossentropy', optimizer='adam', metrics=['accuracy'])\n",
    "  return model\n",
    "\n",
    "def create_cnn_model_G_50_avepool():\n",
    "  # Create model\n",
    "  model = Sequential()\n",
    "  # Max number of bits are different in number yet still can be within threshold\n",
    "  digit_diff_size = 2\n",
    "  digit_same_size = NUMBER_SIZE - digit_diff_size\n",
    "  # If the seq is in the middle then parts that are same is split in two\n",
    "  smallest_digit_same_size = math.floor(digit_same_size/2)\n",
    "  # add model layers\n",
    "  number_digit_diff_size = math.floor(NUMBER_SIZE/digit_diff_size)\n",
    "  model.add(Conv2D(150, kernel_size=(1,smallest_digit_same_size), strides=(1,1), activation='relu', input_shape=(1,SINGLE_SAMPLE_SIZE_50,1)))\n",
    "  model.add(AveragePooling2D(pool_size=(1,NUMBER_SIZE), strides=(1,NUMBER_SIZE)))\n",
    "  model.add(Flatten())\n",
    "  model.add(Dense(BATCH_NUMBER_COUNT_50, activation=\"relu\"))\n",
    "  model.add(Dense(1, kernel_initializer='normal', activation='sigmoid'))\n",
    "  # Compile model\n",
    "  model.compile(loss='binary_crossentropy', optimizer='adam', metrics=['accuracy'])\n",
    "  return model\n",
    "\n",
    "def create_cnn_model_G_50_coarse_3():\n",
    "  # Create model\n",
    "  model = Sequential()\n",
    "  model.add(Conv2D(20, kernel_size=(1,NUMBER_SIZE), strides=(1,NUMBER_SIZE), activation='relu', input_shape=(1,SINGLE_SAMPLE_SIZE_50,1)))\n",
    "  # MaxPooling2D 1x1 theoretically does nothing but without it the trained model is 5% less accurate\n",
    "  model.add(MaxPooling2D(pool_size=(1,1), strides=(1,1)))\n",
    "  model.add(Conv2D(10, kernel_size=(1,1), strides=(1,1), activation='relu'))\n",
    "  # MaxPooling2D 1x1 theoretically does nothing but without it the trained model is 5% less accurate\n",
    "  model.add(MaxPooling2D(pool_size=(1,1), strides=(1,1)))\n",
    "  model.add(Flatten())\n",
    "  model.add(Dense(BATCH_NUMBER_COUNT_50, activation=\"relu\"))\n",
    "  model.add(Dense(1, kernel_initializer='normal', activation='sigmoid'))\n",
    "  # Compile model\n",
    "  model.compile(loss='binary_crossentropy', optimizer='adam', metrics=['accuracy'])\n",
    "  return model"
   ]
  },
  {
   "cell_type": "code",
   "execution_count": 13,
   "metadata": {
    "collapsed": false
   },
   "outputs": [
    {
     "name": "stdout",
     "output_type": "stream",
     "text": [
      "Train on 16320 samples, validate on 4080 samples\n",
      "Epoch 1/50\n",
      "16320/16320 [==============================] - 9s - loss: 0.6935 - acc: 0.5041 - val_loss: 0.6882 - val_acc: 0.5311\n",
      "Epoch 2/50\n",
      "16320/16320 [==============================] - 9s - loss: 0.6732 - acc: 0.5694 - val_loss: 0.6595 - val_acc: 0.5831\n",
      "Epoch 3/50\n",
      "16320/16320 [==============================] - 9s - loss: 0.6456 - acc: 0.6118 - val_loss: 0.6382 - val_acc: 0.6316\n",
      "Epoch 4/50\n",
      "16320/16320 [==============================] - 9s - loss: 0.6171 - acc: 0.6475 - val_loss: 0.6253 - val_acc: 0.6409\n",
      "Epoch 5/50\n",
      "16320/16320 [==============================] - 9s - loss: 0.5897 - acc: 0.6784 - val_loss: 0.6333 - val_acc: 0.6400\n",
      "Epoch 6/50\n",
      "16320/16320 [==============================] - 10s - loss: 0.5667 - acc: 0.7023 - val_loss: 0.6446 - val_acc: 0.6292\n",
      "Epoch 7/50\n",
      "16320/16320 [==============================] - 10s - loss: 0.5385 - acc: 0.7238 - val_loss: 0.6550 - val_acc: 0.6314\n",
      "Epoch 8/50\n",
      "16320/16320 [==============================] - 10s - loss: 0.5074 - acc: 0.7416 - val_loss: 0.6843 - val_acc: 0.6338\n",
      "Epoch 9/50\n",
      "16320/16320 [==============================] - 11s - loss: 0.4654 - acc: 0.7729 - val_loss: 0.7151 - val_acc: 0.6206\n",
      "Epoch 10/50\n",
      "16320/16320 [==============================] - 11s - loss: 0.4282 - acc: 0.7975 - val_loss: 0.7657 - val_acc: 0.6221\n",
      "Epoch 11/50\n",
      "16320/16320 [==============================] - 10s - loss: 0.3887 - acc: 0.8215 - val_loss: 0.8811 - val_acc: 0.6157\n",
      "Epoch 12/50\n",
      "16320/16320 [==============================] - 10s - loss: 0.3476 - acc: 0.8460 - val_loss: 0.9333 - val_acc: 0.6174\n",
      "Epoch 13/50\n",
      "16320/16320 [==============================] - 10s - loss: 0.3037 - acc: 0.8686 - val_loss: 1.0180 - val_acc: 0.6110\n",
      "Epoch 14/50\n",
      "16320/16320 [==============================] - 10s - loss: 0.2702 - acc: 0.8846 - val_loss: 1.0890 - val_acc: 0.6172\n",
      "Epoch 15/50\n",
      "16320/16320 [==============================] - 10s - loss: 0.2355 - acc: 0.9021 - val_loss: 1.1990 - val_acc: 0.6120\n",
      "Epoch 16/50\n",
      "16320/16320 [==============================] - 11s - loss: 0.2022 - acc: 0.9180 - val_loss: 1.2769 - val_acc: 0.6118\n",
      "Epoch 17/50\n",
      "16320/16320 [==============================] - 11s - loss: 0.1772 - acc: 0.9289 - val_loss: 1.5697 - val_acc: 0.5963\n",
      "Epoch 18/50\n",
      "16320/16320 [==============================] - 10s - loss: 0.1550 - acc: 0.9400 - val_loss: 1.5827 - val_acc: 0.6137\n",
      "Epoch 19/50\n",
      "16320/16320 [==============================] - 10s - loss: 0.1375 - acc: 0.9453 - val_loss: 1.8272 - val_acc: 0.6081\n",
      "Epoch 20/50\n",
      "16320/16320 [==============================] - 10s - loss: 0.1193 - acc: 0.9539 - val_loss: 1.9078 - val_acc: 0.6027\n",
      "Epoch 21/50\n",
      "16320/16320 [==============================] - 10s - loss: 0.1071 - acc: 0.9593 - val_loss: 2.0109 - val_acc: 0.6051\n",
      "Epoch 22/50\n",
      "16320/16320 [==============================] - 9s - loss: 0.0930 - acc: 0.9642 - val_loss: 2.2470 - val_acc: 0.6051\n",
      "Epoch 23/50\n",
      "16320/16320 [==============================] - 9s - loss: 0.0823 - acc: 0.9691 - val_loss: 2.2358 - val_acc: 0.6086\n",
      "Epoch 24/50\n",
      "16320/16320 [==============================] - 9s - loss: 0.0773 - acc: 0.9715 - val_loss: 2.3622 - val_acc: 0.5998\n",
      "Epoch 25/50\n",
      "16320/16320 [==============================] - 9s - loss: 0.0793 - acc: 0.9695 - val_loss: 2.4261 - val_acc: 0.6064\n",
      "Epoch 26/50\n",
      "16320/16320 [==============================] - 9s - loss: 0.0655 - acc: 0.9771 - val_loss: 2.7169 - val_acc: 0.6049\n",
      "Epoch 27/50\n",
      "16320/16320 [==============================] - 9s - loss: 0.0679 - acc: 0.9749 - val_loss: 2.6224 - val_acc: 0.6044\n",
      "Epoch 28/50\n",
      "16320/16320 [==============================] - 9s - loss: 0.0587 - acc: 0.9792 - val_loss: 2.7384 - val_acc: 0.6049\n",
      "Epoch 29/50\n",
      "16320/16320 [==============================] - 9s - loss: 0.0656 - acc: 0.9770 - val_loss: 2.8765 - val_acc: 0.5973\n",
      "Epoch 30/50\n",
      "16320/16320 [==============================] - 9s - loss: 0.0532 - acc: 0.9813 - val_loss: 2.9956 - val_acc: 0.6059\n",
      "Epoch 31/50\n",
      "16320/16320 [==============================] - 9s - loss: 0.0541 - acc: 0.9803 - val_loss: 2.8321 - val_acc: 0.6029\n",
      "Epoch 32/50\n",
      "16320/16320 [==============================] - 9s - loss: 0.0599 - acc: 0.9788 - val_loss: 2.9560 - val_acc: 0.6091\n",
      "Epoch 33/50\n",
      "16320/16320 [==============================] - 9s - loss: 0.0541 - acc: 0.9804 - val_loss: 3.0288 - val_acc: 0.6044\n",
      "Epoch 34/50\n",
      "16320/16320 [==============================] - 9s - loss: 0.0474 - acc: 0.9821 - val_loss: 3.1083 - val_acc: 0.6066\n",
      "Epoch 35/50\n",
      "16320/16320 [==============================] - 9s - loss: 0.0468 - acc: 0.9836 - val_loss: 3.1315 - val_acc: 0.5949\n",
      "Epoch 36/50\n",
      "16320/16320 [==============================] - 9s - loss: 0.0531 - acc: 0.9812 - val_loss: 3.1472 - val_acc: 0.6059\n",
      "Epoch 37/50\n",
      "16320/16320 [==============================] - 9s - loss: 0.0410 - acc: 0.9864 - val_loss: 3.1376 - val_acc: 0.6061\n",
      "Epoch 38/50\n",
      "16320/16320 [==============================] - 9s - loss: 0.0456 - acc: 0.9837 - val_loss: 3.1792 - val_acc: 0.5983\n",
      "Epoch 39/50\n",
      "16320/16320 [==============================] - 9s - loss: 0.0431 - acc: 0.9850 - val_loss: 3.3017 - val_acc: 0.6054\n",
      "Epoch 40/50\n",
      "16320/16320 [==============================] - 9s - loss: 0.0471 - acc: 0.9834 - val_loss: 3.2821 - val_acc: 0.5939\n",
      "Epoch 41/50\n",
      "16320/16320 [==============================] - 10s - loss: 0.0369 - acc: 0.9871 - val_loss: 3.4134 - val_acc: 0.6034\n",
      "Epoch 42/50\n",
      "16320/16320 [==============================] - 10s - loss: 0.0397 - acc: 0.9865 - val_loss: 3.4223 - val_acc: 0.6017\n",
      "Epoch 43/50\n",
      "16320/16320 [==============================] - 11s - loss: 0.0350 - acc: 0.9881 - val_loss: 3.4952 - val_acc: 0.5995\n",
      "Epoch 44/50\n",
      "16320/16320 [==============================] - 10s - loss: 0.0431 - acc: 0.9861 - val_loss: 3.3912 - val_acc: 0.5990\n",
      "Epoch 45/50\n",
      "16320/16320 [==============================] - 10s - loss: 0.0444 - acc: 0.9836 - val_loss: 3.4570 - val_acc: 0.5988\n",
      "Epoch 46/50\n",
      "16320/16320 [==============================] - 9s - loss: 0.0388 - acc: 0.9860 - val_loss: 3.3728 - val_acc: 0.6029\n",
      "Epoch 47/50\n",
      "16320/16320 [==============================] - 10s - loss: 0.0399 - acc: 0.9865 - val_loss: 3.5273 - val_acc: 0.6066\n",
      "Epoch 48/50\n",
      "16320/16320 [==============================] - 11s - loss: 0.0315 - acc: 0.9892 - val_loss: 3.4657 - val_acc: 0.5993\n",
      "Epoch 49/50\n",
      "16320/16320 [==============================] - 9s - loss: 0.0383 - acc: 0.9866 - val_loss: 3.4048 - val_acc: 0.6076\n",
      "Epoch 50/50\n",
      "16320/16320 [==============================] - 9s - loss: 0.0318 - acc: 0.9887 - val_loss: 3.5989 - val_acc: 0.5980\n"
     ]
    },
    {
     "data": {
      "text/plain": [
       "<keras.callbacks.History at 0x115465588>"
      ]
     },
     "execution_count": 13,
     "metadata": {},
     "output_type": "execute_result"
    }
   ],
   "source": [
    "# For multi-class this is best so we use it here in binary class CNN: create_cnn_model_G_50_coarse_3\n",
    "\n",
    "cnn_model_G_50_coarse_3 = create_cnn_model_G_50_coarse_3()\n",
    "\n",
    "cnn_model_G_50_coarse_3.fit(X_10200_10200_combo_sample_number_50_train, Y_10200_10200_combo_sample_number_50_train, validation_split=0.2, batch_size=10, epochs=50)"
   ]
  },
  {
   "cell_type": "code",
   "execution_count": 14,
   "metadata": {
    "collapsed": false
   },
   "outputs": [
    {
     "name": "stdout",
     "output_type": "stream",
     "text": [
      "3904/4080 [===========================>..] - ETA: 0s"
     ]
    },
    {
     "data": {
      "text/plain": [
       "0.5977941176470588"
      ]
     },
     "execution_count": 14,
     "metadata": {},
     "output_type": "execute_result"
    }
   ],
   "source": [
    "predict_arr = cnn_model_G_50_coarse_3.predict_classes(X_2040_2040_combo_sample_number_50_train)\n",
    "# Each element in 'a' will contain 1/True if prediction matches expected outcome\n",
    "a = (predict_arr == np.array([[r] for r in Y_2040_2040_combo_sample_number_50_train]))\n",
    "# % of correct predictions\n",
    "np.count_nonzero(a)/np.size(a)"
   ]
  },
  {
   "cell_type": "code",
   "execution_count": 15,
   "metadata": {
    "collapsed": false
   },
   "outputs": [
    {
     "name": "stdout",
     "output_type": "stream",
     "text": [
      "Epoch 1/10\n",
      "16320/16320 [==============================] - 15s - loss: 0.6895 - acc: 0.5224    \n",
      "Epoch 2/10\n",
      "16320/16320 [==============================] - 15s - loss: 0.6591 - acc: 0.5907    \n",
      "Epoch 3/10\n",
      "16320/16320 [==============================] - 14s - loss: 0.6373 - acc: 0.6225    \n",
      "Epoch 4/10\n",
      "16320/16320 [==============================] - 15s - loss: 0.6233 - acc: 0.6386    \n",
      "Epoch 5/10\n",
      "16320/16320 [==============================] - 15s - loss: 0.6054 - acc: 0.6587    \n",
      "Epoch 6/10\n",
      "16320/16320 [==============================] - 16s - loss: 0.5858 - acc: 0.6830    \n",
      "Epoch 7/10\n",
      "16320/16320 [==============================] - 15s - loss: 0.5599 - acc: 0.7045    \n",
      "Epoch 8/10\n",
      "16320/16320 [==============================] - 15s - loss: 0.5290 - acc: 0.7262    \n",
      "Epoch 9/10\n",
      "16320/16320 [==============================] - 17s - loss: 0.4905 - acc: 0.7558    \n",
      "Epoch 10/10\n",
      "16320/16320 [==============================] - 16s - loss: 0.4522 - acc: 0.7813    \n",
      "4020/4080 [============================>.] - ETA: 0sEpoch 1/10\n",
      "16320/16320 [==============================] - 15s - loss: 0.6880 - acc: 0.5272    \n",
      "Epoch 2/10\n",
      "16320/16320 [==============================] - 14s - loss: 0.6589 - acc: 0.5897    \n",
      "Epoch 3/10\n",
      "16320/16320 [==============================] - 14s - loss: 0.6350 - acc: 0.6211    \n",
      "Epoch 4/10\n",
      "16320/16320 [==============================] - 15s - loss: 0.6126 - acc: 0.6554    \n",
      "Epoch 5/10\n",
      "16320/16320 [==============================] - 15s - loss: 0.5906 - acc: 0.6796    \n",
      "Epoch 6/10\n",
      "16320/16320 [==============================] - 15s - loss: 0.5643 - acc: 0.7057    \n",
      "Epoch 7/10\n",
      "16320/16320 [==============================] - 14s - loss: 0.5305 - acc: 0.7311    \n",
      "Epoch 8/10\n",
      "16320/16320 [==============================] - 14s - loss: 0.4948 - acc: 0.7561    \n",
      "Epoch 9/10\n",
      "16320/16320 [==============================] - 14s - loss: 0.4589 - acc: 0.7800    \n",
      "Epoch 10/10\n",
      "16320/16320 [==============================] - 14s - loss: 0.4154 - acc: 0.8042    \n",
      "4065/4080 [============================>.] - ETA: 0sEpoch 1/10\n",
      "16320/16320 [==============================] - 15s - loss: 0.6936 - acc: 0.5037    \n",
      "Epoch 2/10\n",
      "16320/16320 [==============================] - 15s - loss: 0.6853 - acc: 0.5418    \n",
      "Epoch 3/10\n",
      "16320/16320 [==============================] - 15s - loss: 0.6569 - acc: 0.5930    \n",
      "Epoch 4/10\n",
      "16320/16320 [==============================] - 15s - loss: 0.6374 - acc: 0.6230    \n",
      "Epoch 5/10\n",
      "16320/16320 [==============================] - 15s - loss: 0.6207 - acc: 0.6449    \n",
      "Epoch 6/10\n",
      "16320/16320 [==============================] - 15s - loss: 0.6033 - acc: 0.6652    \n",
      "Epoch 7/10\n",
      "16320/16320 [==============================] - 14s - loss: 0.5860 - acc: 0.6825    \n",
      "Epoch 8/10\n",
      "16320/16320 [==============================] - 15s - loss: 0.5644 - acc: 0.7009    \n",
      "Epoch 9/10\n",
      "16320/16320 [==============================] - 16s - loss: 0.5399 - acc: 0.7256    \n",
      "Epoch 10/10\n",
      "16320/16320 [==============================] - 16s - loss: 0.5086 - acc: 0.7412    \n",
      "3945/4080 [============================>.] - ETA: 0sEpoch 1/10\n",
      "16320/16320 [==============================] - 15s - loss: 0.6941 - acc: 0.5041    \n",
      "Epoch 2/10\n",
      "16320/16320 [==============================] - 14s - loss: 0.6832 - acc: 0.5441    \n",
      "Epoch 3/10\n",
      "16320/16320 [==============================] - 15s - loss: 0.6526 - acc: 0.6039    \n",
      "Epoch 4/10\n",
      "16320/16320 [==============================] - 15s - loss: 0.6313 - acc: 0.6377    \n",
      "Epoch 5/10\n",
      "16320/16320 [==============================] - 15s - loss: 0.6150 - acc: 0.6539    \n",
      "Epoch 6/10\n",
      "16320/16320 [==============================] - 14s - loss: 0.5953 - acc: 0.6770    \n",
      "Epoch 7/10\n",
      "16320/16320 [==============================] - 14s - loss: 0.5801 - acc: 0.6862    \n",
      "Epoch 8/10\n",
      "16320/16320 [==============================] - 14s - loss: 0.5632 - acc: 0.7016    \n",
      "Epoch 9/10\n",
      "16320/16320 [==============================] - 14s - loss: 0.5422 - acc: 0.7184    \n",
      "Epoch 10/10\n",
      "16320/16320 [==============================] - 14s - loss: 0.5216 - acc: 0.7330    \n",
      "4015/4080 [============================>.] - ETA: 0sEpoch 1/10\n",
      "16320/16320 [==============================] - 16s - loss: 0.6917 - acc: 0.5118    \n",
      "Epoch 2/10\n",
      "16320/16320 [==============================] - 15s - loss: 0.6659 - acc: 0.5839    \n",
      "Epoch 3/10\n",
      "16320/16320 [==============================] - 14s - loss: 0.6486 - acc: 0.6043    \n",
      "Epoch 4/10\n",
      "16320/16320 [==============================] - 14s - loss: 0.6306 - acc: 0.6324    \n",
      "Epoch 5/10\n",
      "16320/16320 [==============================] - 14s - loss: 0.6123 - acc: 0.6501    \n",
      "Epoch 6/10\n",
      "16320/16320 [==============================] - 14s - loss: 0.5874 - acc: 0.6764    \n",
      "Epoch 7/10\n",
      "16320/16320 [==============================] - 14s - loss: 0.5570 - acc: 0.7027    \n",
      "Epoch 8/10\n",
      "16320/16320 [==============================] - 14s - loss: 0.5225 - acc: 0.7343    \n",
      "Epoch 9/10\n",
      "16320/16320 [==============================] - 14s - loss: 0.4813 - acc: 0.7616    \n",
      "Epoch 10/10\n",
      "16320/16320 [==============================] - 14s - loss: 0.4400 - acc: 0.7890    \n",
      "4030/4080 [============================>.] - ETA: 0sResults: 61.35% (0.72%)\n"
     ]
    }
   ],
   "source": [
    "# Alternatively you can evaluate using StratifiedKFold\n",
    "\n",
    "from keras.wrappers.scikit_learn import KerasClassifier\n",
    "from sklearn.model_selection import cross_val_score\n",
    "from sklearn.model_selection import StratifiedKFold\n",
    "\n",
    "# Evaluate baseline model\n",
    "seed = 7\n",
    "estimator = KerasClassifier(build_fn=create_cnn_model_G_50_coarse_3, epochs=10, batch_size=5, verbose=1)\n",
    "kfold = StratifiedKFold(n_splits=5, shuffle=True, random_state=seed)\n",
    "results = cross_val_score(estimator, X_10200_10200_combo_sample_number_50_train, Y_10200_10200_combo_sample_number_50_train, cv=kfold)\n",
    "\n",
    "print(\"Results: %.2f%% (%.2f%%)\" % (results.mean()*100, results.std()*100))"
   ]
  },
  {
   "cell_type": "code",
   "execution_count": null,
   "metadata": {
    "collapsed": true
   },
   "outputs": [],
   "source": []
  }
 ],
 "metadata": {
  "kernelspec": {
   "display_name": "Python 3",
   "language": "python",
   "name": "python3"
  },
  "language_info": {
   "codemirror_mode": {
    "name": "ipython",
    "version": 3
   },
   "file_extension": ".py",
   "mimetype": "text/x-python",
   "name": "python",
   "nbconvert_exporter": "python",
   "pygments_lexer": "ipython3",
   "version": "3.5.2"
  }
 },
 "nbformat": 4,
 "nbformat_minor": 0
}
